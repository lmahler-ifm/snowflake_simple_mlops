{
 "metadata": {
  "kernelspec": {
   "display_name": "Streamlit Notebook",
   "name": "streamlit"
  },
  "lastEditStatus": {
   "notebookId": "syqcv57n3oimxw2df73a",
   "authorId": "4993726023393",
   "authorName": "ADMIN",
   "authorEmail": "michael.gorkow@snowflake.com",
   "sessionId": "0e20513d-ca60-439a-bb2f-07eb4fdb31cb",
   "lastEditTime": 1741346397559
  }
 },
 "nbformat_minor": 5,
 "nbformat": 4,
 "cells": [
  {
   "cell_type": "markdown",
   "id": "e090cc90-29da-47e1-bd9b-2f7ac5eedad5",
   "metadata": {
    "name": "SETUP_0",
    "collapsed": false
   },
   "source": "# Use Case: Predicting Future Customer Revenue Using Historical Transaction Data 📊"
  },
  {
   "cell_type": "markdown",
   "id": "3f59214b-4111-4c5d-8a06-1e9f091a4620",
   "metadata": {
    "collapsed": false,
    "name": "SETUP_1"
   },
   "source": "# 1 - Setup Demo 🛠️\n* Import required libraries\n* Create a Snowpark session\n\n| Library    | Use |\n| -------- | ------- |\n| `snowflake.snowpark` | Main Python Developer Framework for Snowflake including the DataFrame-API     |\n| `snowflake.ml`    | Snowflake ML specific functions including Feature Store & Model Registry APIs    |\n| `snowflake.cortex`    | Snowflake APIs to access Cortex Services (e.g. LLMs)    |\n| `helper_functions`  | Demo-specific functions that are nort part of any official module    |\n| `notebook_copilot`  | Convenience Functions for Snowflake Notebooks. More details [here](google.com).    |"
  },
  {
   "cell_type": "code",
   "execution_count": null,
   "id": "856fbb66-2845-488b-9878-1a90da9edc53",
   "metadata": {
    "collapsed": false,
    "language": "python",
    "name": "SETUP_2"
   },
   "outputs": [],
   "source": "# Helper functions for this demo\nfrom helper_functions.setup_environment import setup_demo\nfrom notebook_copilot.cortex_helper import (\n    cortex_helper_ui,\n    cortex_helper_visualize_query,\n    cortex_helper_explain_column_sql,\n    cortex_helper_describe_columns\n)\nfrom helper_functions.plotting import plot_inshop_vs_online_revenue, visualize_lineage, compare_two_models\nfrom helper_functions.mlops import train_new_model, simulate_model_performance\nfrom helper_functions.misc import get_function_source_recursively, get_snowsight_url\n\n\n# Import python packages\nimport plotly.express as px\nimport plotly.graph_objects as go\nimport streamlit as st\nfrom streamlit import dataframe as sdf\nimport pandas as pd\nimport json\nimport shap\nimport warnings\nwarnings.filterwarnings(\"ignore\", category=RuntimeWarning)\n\n# Import Snowflake packages\nfrom snowflake.snowpark.context import get_active_session\nfrom snowflake.snowpark import functions as F\nfrom snowflake.snowpark.functions import lit, col\nfrom snowflake.ml.modeling.xgboost import XGBRegressor\nfrom snowflake.ml.modeling.metrics import mean_absolute_percentage_error\nfrom snowflake.ml.registry import Registry\nfrom snowflake.ml.monitoring.entities.model_monitor_config import ModelMonitorSourceConfig, ModelMonitorConfig\nfrom snowflake.ml.feature_store import (\n    FeatureStore,\n    FeatureView,\n    Entity,\n    CreationMode\n)\nfrom snowflake.cortex import complete\n\n# Create a session\nsession = get_active_session()\nsetup_demo(session)"
  },
  {
   "cell_type": "markdown",
   "id": "23627ed5-7e8c-4017-a270-c27af9c06676",
   "metadata": {
    "collapsed": false,
    "name": "EXPLORATION_0"
   },
   "source": "# 2 - Data Exploration & Visualization\n\n* `session.table()` creates a reference to a table\n* `count()`, `order_by()`, `describe()` are dataframe operations\n* `describe()` gives us insights into the transaction amounts (e.g. min, average, max, count).\n\nWe can see that we have roughly 50K transactions across 350 customers."
  },
  {
   "cell_type": "code",
   "execution_count": null,
   "id": "5e15bb06-d009-458a-8627-fe407729cbf6",
   "metadata": {
    "collapsed": false,
    "language": "python",
    "name": "EXPLORATION_1"
   },
   "outputs": [],
   "source": "transactions_df = session.table('SIMPLE_MLOPS_DEMO.RETAIL_DATA.TRANSACTIONS')\n\nprint(f'Number of transactions: {transactions_df.count()}')\nprint(f'Number of customers: {transactions_df.select(\"CUSTOMER_ID\").distinct().count()}')\n\nprint('Transactions Data:')\ntransactions_df.order_by(col('DATE').desc()).show()\n\nprint('Quick Variable Analysis:')\ntransactions_df.describe().order_by('SUMMARY').show()"
  },
  {
   "cell_type": "markdown",
   "id": "894d374a-b912-4600-a0a4-a3f82d2d1b4d",
   "metadata": {
    "collapsed": false,
    "name": "cell15"
   },
   "source": "### Plotting Data\n* For this notebook I developed two convenience functions for you:  \n    * `cortex_helper_ui()` which will open a simple user interface (based on Streamlit) to Snowflake Cortex\n    * `cortex_helper_visualize_query()` receives a Snowpark or Pandas Dataframe and a prompt (in case you already know the dataframe and query)\n\nBoth functions utilize Snowflake's [complete()](https://docs.snowflake.com/en/developer-guide/snowpark-ml/reference/latest/api/cortex/snowflake.cortex.complete) function to access LLMs natively hosted in Snowflake.\n\nTry asking the following questions:  \n* ***What was the overall revenue per channel and month? Use a stacked bar plot and use YY-Monthname for the x-axis.***\n* ***What was the total transaction amount per channel? Use a pie chart.***"
  },
  {
   "cell_type": "code",
   "id": "a257574f-0e1e-49ed-9482-b5eb583c07b2",
   "metadata": {
    "language": "python",
    "name": "VIEW_SOURCE_CODE1",
    "collapsed": false,
    "codeCollapsed": true
   },
   "outputs": [],
   "source": "with st.expander('**Source Code:** cortex_helper_visualize_query()'):\n    st.code(get_function_source_recursively(cortex_helper_visualize_query, max_depth=0), language='python')\n\nwith st.expander('**Source Code:** get_cortex_helper()'):\n    st.code(get_function_source_recursively(cortex_helper_ui, max_depth=1), language='python')",
   "execution_count": null
  },
  {
   "cell_type": "code",
   "id": "9f0b1910-6162-49c2-adf8-3294baa80b89",
   "metadata": {
    "language": "python",
    "name": "cell40"
   },
   "outputs": [],
   "source": "cortex_helper_ui()",
   "execution_count": null
  },
  {
   "cell_type": "markdown",
   "id": "ec7ed6e6-70a3-4f8b-a61c-446cf9eaada8",
   "metadata": {
    "name": "cell23",
    "collapsed": false
   },
   "source": "When we plot the distribution of ONLINE vs. IN_SHOP revenue, we can see that 75% of our revenue comes from customer transactions that go into our shops.  \nA model trained on this data should recognize that IN_SHOP transactions are the major driver of future customer revenue."
  },
  {
   "cell_type": "code",
   "id": "4ca5466e-03ee-4b0d-a851-6e132ca07f1d",
   "metadata": {
    "language": "python",
    "name": "cell5"
   },
   "outputs": [],
   "source": "cortex_helper_visualize_query(transactions_df, 'What was the total transaction amount per channel? Use a pie chart.')",
   "execution_count": null
  },
  {
   "cell_type": "markdown",
   "id": "5b0114ca-d50b-4a6b-a33d-ed29b98eb692",
   "metadata": {
    "collapsed": false,
    "name": "cell17"
   },
   "source": "# 3 - Feature Store & Feature Engineering\nThe Snowflake Feature Store enables data scientists and ML engineers to create, manage, and utilize machine learning features within machine learning pipelines.  \nA feature store consists of feature views, which encapsulate Python or SQL pipelines that transform raw data into one or more related features.  \nAll features within a feature view are refreshed simultaneously from the source data.\n\nFeature store objects are implemented as Snowflake objects and all feature store objects are therefore subject to Snowflake access control rules.\n| Feature Store Object    | Snowflake Object |\n| -------- | ------- |\n| `FeatureStore` | Schema     |\n| `Entity`    | Tag    |\n| `FeatureView`  | Dynamic Table or View    |\n| `Feature`  | Column in a Dynamic Table or View    |"
  },
  {
   "cell_type": "markdown",
   "id": "c55c188a-b9d0-4da7-b6ab-7b85c3f3172b",
   "metadata": {
    "collapsed": false,
    "name": "cell26"
   },
   "source": "### Setup the Feature Store\nWe are creating (or referencing if it already exists) a Feature Store that is stored in the schema `FEATURE_STORE`.  \nThe `default_warehouse` will be used to refresh features automatically."
  },
  {
   "cell_type": "code",
   "execution_count": null,
   "id": "db378dc4-44e5-4b5b-b55c-e1a3e14ec663",
   "metadata": {
    "collapsed": false,
    "language": "python",
    "name": "cell13"
   },
   "outputs": [],
   "source": "fs = FeatureStore(\n    session=session, \n    database=session.get_current_database(), \n    name='FEATURE_STORE', \n    default_warehouse='FEATURE_STORE_WH',\n    creation_mode=CreationMode.CREATE_IF_NOT_EXIST,\n)"
  },
  {
   "cell_type": "markdown",
   "id": "8c00471e-18fd-47d0-99ae-8b945e7b0bdb",
   "metadata": {
    "collapsed": false,
    "name": "cell12"
   },
   "source": "### Create a Feature Store Entity\nFeature views are organized in the feature store according to the entities to which they apply. An entity is a higher-level abstraction that represents the subject matter of a feature.  \nIn our example, the main entity is the `CUSTOMER` and the features we will create will be linked to this entity."
  },
  {
   "cell_type": "code",
   "execution_count": null,
   "id": "4286517a-2a63-4565-aa22-63104d78f21b",
   "metadata": {
    "collapsed": false,
    "language": "python",
    "name": "cell2"
   },
   "outputs": [],
   "source": [
    "# Create a new entity for the Feature Store\n",
    "entity = Entity(name=\"CUSTOMER\", join_keys=[\"CUSTOMER_ID\"], desc='Unique identifier for customers.')\n",
    "fs.register_entity(entity)\n",
    "fs.list_entities().show()"
   ]
  },
  {
   "cell_type": "markdown",
   "id": "43dc666d-c1be-484d-b203-4fc26b99cf88",
   "metadata": {
    "collapsed": false,
    "name": "cell31"
   },
   "source": "### Develop Features for Customer Transactions\n\nThe Snowpark Python API provides analytics functions for easily defining many common feature types, such as windowed aggregations.  \nWe will use `analytics.time_series_agg()` to quickly generate revenue for the past 1, 2 and 3 months per customer per channel which we will use as features for our machine learning model.\n\nThe feature dataframe should have the following columns:\n| Column    | Purpose |\n| -------- | ------- |\n| `CUSTOMER_ID` | Identify relevant rows for the calculated feature (Join-Criteria)     |\n| `DATE`    | Allow correct Point-in-Time Joins   |\n| `Feature columns`  | Actual features per entity    |  \n\nYou can find more functions for quickly generating featueres here:  \n[Common feature and query patterns](https://docs.snowflake.com/en/developer-guide/snowflake-ml/feature-store/examples)"
  },
  {
   "cell_type": "code",
   "execution_count": null,
   "id": "95cdfdb0-10fb-4891-8c06-81c1c7dd0af3",
   "metadata": {
    "collapsed": false,
    "language": "python",
    "name": "cell14"
   },
   "outputs": [],
   "source": [
    "def col_formatter(input_col, agg, window):\n",
    "    feature_name = f\"{agg.replace('SUM','TOTAL')}_{input_col}_{window.replace('-', 'past_').replace('MM','_MONTHS')}\"\n",
    "    return feature_name\n",
    "\n",
    "in_shop_transaction_features = (\n",
    "    transactions_df.filter(col('TRANSACTION_CHANNEL') == 'IN_SHOP')\n",
    "    .group_by(['CUSTOMER_ID','DATE']).agg(F.sum('TRANSACTION_AMOUNT').as_('REVENUE'))\n",
    "    .rename({'REVENUE':'REVENUE_IN_SHOP'})\n",
    "    .analytics.time_series_agg(\n",
    "        aggs={'REVENUE_IN_SHOP':['SUM']},\n",
    "        windows=['-1MM','-2MM','-3MM'],\n",
    "        sliding_interval=\"1D\",\n",
    "        group_by=['CUSTOMER_ID'],\n",
    "        time_col='DATE',\n",
    "        col_formatter=col_formatter\n",
    "    ).drop(['SLIDING_POINT','REVENUE_IN_SHOP'])\n",
    ")\n",
    "\n",
    "online_transaction_features = (\n",
    "    transactions_df.filter(col('TRANSACTION_CHANNEL') == 'ONLINE')\n",
    "    .group_by(['CUSTOMER_ID','DATE']).agg(F.sum('TRANSACTION_AMOUNT').as_('REVENUE'))\n",
    "    .rename({'REVENUE':'REVENUE_ONLINE'})\n",
    "    .analytics.time_series_agg(\n",
    "        aggs={'REVENUE_ONLINE':['SUM']},\n",
    "        windows=['-1MM','-2MM','-3MM'],\n",
    "        sliding_interval=\"1D\",\n",
    "        group_by=['CUSTOMER_ID'],\n",
    "        time_col='DATE',\n",
    "        col_formatter=col_formatter\n",
    "    ).drop(['SLIDING_POINT','REVENUE_ONLINE'])\n",
    ")"
   ]
  },
  {
   "cell_type": "code",
   "id": "452f6ecc-65d2-4b18-9386-ee4dbd649a2a",
   "metadata": {
    "language": "python",
    "name": "cell18"
   },
   "outputs": [],
   "source": "online_transaction_features.show()",
   "execution_count": null
  },
  {
   "cell_type": "markdown",
   "id": "32994363-a331-4cf0-b156-aa3575776d69",
   "metadata": {
    "name": "cell19",
    "collapsed": false
   },
   "source": "**Feature Descriptions**  \nTo avoid manually writing descriptions, we can use `complete()` to have an LLM generate JSON files containing business descriptions.  \nThese descriptions are stored in the Feature Store alongside our features."
  },
  {
   "cell_type": "code",
   "id": "7f25bcab-5a03-4745-bb60-399b3d4a2947",
   "metadata": {
    "language": "python",
    "name": "cell71"
   },
   "outputs": [],
   "source": "feature_descriptions_in_shop_transactions = cortex_helper_describe_columns(in_shop_transaction_features, exclude_columns=['CUSTOMER_ID','DATE'])\nfeature_descriptions_online_transactions = cortex_helper_describe_columns(online_transaction_features, exclude_columns=['CUSTOMER_ID','DATE'])\n\nst.json(feature_descriptions_in_shop_transactions)\nst.json(feature_descriptions_online_transactions)",
   "execution_count": null
  },
  {
   "cell_type": "markdown",
   "id": "39bfb016-65ea-4690-813f-54084735c0a0",
   "metadata": {
    "name": "cell22",
    "collapsed": false
   },
   "source": "### Registering Feature Views\nThe `FeatureView` class accepts a Snowpark DataFrame object that contains the feature transformation logic. This allows you to define your features using any method supported by the Snowpark DataFrame API or Snowflake SQL. You can pass the DataFrame directly to the `FeatureView` constructor.  \n\nEach `FeatureView` is associated with the corresponding `Entity`.  \nThe `refresh_freq` parameter determines how often the Feature Store checks for new data and updates the features automatically. For demonstration purposes, this value is set to 1 minute, but it should be adjusted based on the specific use case."
  },
  {
   "cell_type": "code",
   "execution_count": null,
   "id": "39d69f38-03c7-435e-8240-7795f752e418",
   "metadata": {
    "collapsed": false,
    "language": "python",
    "name": "cell16"
   },
   "outputs": [],
   "source": [
    "# Create Feature View\n",
    "in_shop_transaction_fv = FeatureView(\n",
    "    name=\"IN_SHOP_REVENUE_FEATURES\", \n",
    "    entities=[entity],\n",
    "    timestamp_col='DATE',\n",
    "    feature_df=in_shop_transaction_features, \n",
    "    refresh_freq=\"1 minute\",\n",
    "    refresh_mode='AUTO',\n",
    "    desc=\"Features for in-shop transactions\",\n",
    "    overwrite=True\n",
    ")\n",
    "\n",
    "# Add descriptions for some features\n",
    "in_shop_transaction_fv = in_shop_transaction_fv.attach_feature_desc(feature_descriptions_in_shop_transactions)\n",
    "\n",
    "in_shop_transaction_fv = fs.register_feature_view(\n",
    "    feature_view=in_shop_transaction_fv, \n",
    "    version=\"V1\", \n",
    "    block=True,\n",
    "    overwrite=True\n",
    ")\n",
    "\n",
    "# Create Feature View\n",
    "online_transaction_fv = FeatureView(\n",
    "    name=\"ONLINE_REVENUE_FEATURES\", \n",
    "    entities=[entity],\n",
    "    timestamp_col='DATE',\n",
    "    feature_df=online_transaction_features, \n",
    "    refresh_freq=\"1 minute\",\n",
    "    refresh_mode='AUTO',\n",
    "    desc=\"Features for online transactions\",\n",
    "    overwrite=True\n",
    ")\n",
    "\n",
    "# Add descriptions for some features\n",
    "online_transaction_fv = online_transaction_fv.attach_feature_desc(feature_descriptions_online_transactions)\n",
    "\n",
    "online_transaction_fv = fs.register_feature_view(\n",
    "    feature_view=online_transaction_fv, \n",
    "    version=\"V1\", \n",
    "    block=True,\n",
    "    overwrite=True\n",
    ")"
   ]
  },
  {
   "cell_type": "markdown",
   "id": "70565143-a46f-4dd6-aaa4-483ea055f37f",
   "metadata": {
    "name": "cell63",
    "collapsed": false
   },
   "source": "### Discovering Features via Feature Store UI\nAfter creating entities and feature views, you can utilize the [Feature Store User Interface](https://docs.snowflake.com/en/developer-guide/snowflake-ml/feature-store/feature-store-ui) in Snowsight to locate the objects you need.  \n\nExample of the Feature Store UI:  \n![text](https://github.com/michaelgorkow/snowflake_simple_mlops/blob/main/resources/feature_store.png?raw=true)"
  },
  {
   "cell_type": "code",
   "id": "cc112af7-52a7-423f-8161-d5b27a20f53d",
   "metadata": {
    "language": "python",
    "name": "URL_FEATURE_STORE",
    "collapsed": false,
    "codeCollapsed": false
   },
   "outputs": [],
   "source": "get_snowsight_url(session, 'Link to Feature Store', '#/features/database/SIMPLE_MLOPS_DEMO/store/FEATURE_STORE/entities')",
   "execution_count": null
  },
  {
   "cell_type": "markdown",
   "id": "51761481-2cbe-45d8-9bb7-6529577b0871",
   "metadata": {
    "name": "cell64",
    "collapsed": false
   },
   "source": "### Discovering Features via Feature Store API"
  },
  {
   "cell_type": "code",
   "id": "f2cc6acb-fd8b-4c41-bf39-24e5fe74affb",
   "metadata": {
    "language": "python",
    "name": "cell66"
   },
   "outputs": [],
   "source": "st.markdown('### List of all Feature Views:')\nsdf(fs.list_feature_views())\n\n# Retrieve a Feature View\nretrieved_feature_view = fs.get_feature_view(name='IN_SHOP_REVENUE_FEATURES',version='V1')\n\nst.markdown('### Feature View Columns:')\nsdf(retrieved_feature_view.list_columns())#.show(max_width=200)\n\n# Manually refresh a Feature View\nfs.refresh_feature_view(retrieved_feature_view)\n\nst.markdown('### Feature View Refresh History:')\nsdf(fs.get_refresh_history(retrieved_feature_view).limit(3))\n\n# Explore lineage information\nst.markdown('### Feature View Lineage:')\nst.json(retrieved_feature_view.lineage(direction='both'))\n\n# Use an LLM and the underlying SQL query to explain how the feature is calculated\nsql_explanation = cortex_helper_explain_column_sql(sql=retrieved_feature_view.query, column='TOTAL_REVENUE_IN_SHOP_PAST_1_MONTHS')\nst.markdown(sql_explanation)",
   "execution_count": null
  },
  {
   "cell_type": "markdown",
   "id": "6ade4851-3069-4d9a-af29-8c650c1f1cf5",
   "metadata": {
    "collapsed": false,
    "name": "cell1"
   },
   "source": "# 4 - Model Training\n\n### Generate the Training Dataset with Features from Feature Store\nOur goal is to predict each customer's revenue for the next month based on their transactions from the past three months.  \n\nWe have data from January to April 2024. To define our target variable, `NEXT_MONTH_REVENUE`, we sum all transactions from April for each customer. To ensure proper point-in-time feature retrieval and avoid using future data, we only include transaction features up to **March 31, 2024**, and mark this cutoff with the `FEATURE_CUTOFF_DATE` column.  \n\nThe DataFrame you just created is a **spine DataFrame**, which acts as a reference table linking customers (`CUSTOMER_ID`) with a timestamp (`FEATURE_CUTOFF_DATE`). It ensures consistent and reproducible feature retrieval in a **feature store**.  \n\nUsing this spine, you can generate a training dataset with [`generate_dataset()`](https://docs.snowflake.com/en/developer-guide/snowflake-ml/feature-store/modeling#generating-snowflake-datasets-for-training). The Feature Store will automatically retrieve features as they were valid on that date and add them to the dataset.  \n\nA [Snowflake Dataset](https://docs.snowflake.com/en/developer-guide/snowflake-ml/dataset) is a schema-level object designed for machine learning. It stores data in versions, ensuring immutability, efficient access, and compatibility with ML frameworks."
  },
  {
   "cell_type": "code",
   "execution_count": null,
   "id": "ec6ebd1e-0700-4646-a3ff-d871e51d3fc6",
   "metadata": {
    "collapsed": false,
    "language": "python",
    "name": "cell20"
   },
   "outputs": [],
   "source": "target_df = session.table('SIMPLE_MLOPS_DEMO.RETAIL_DATA.TRANSACTIONS')\ntarget_df = (\n    target_df.filter(col('DATE').between('2024-04-01','2024-04-30'))    # Generate Target Variable for April 2024\n    .group_by('CUSTOMER_ID')\n    .agg(F.sum('TRANSACTION_AMOUNT').as_('NEXT_MONTH_REVENUE'))\n    .with_column('FEATURE_CUTOFF_DATE', F.to_date(lit('2024-03-31')))   # Features until End of March 2024\n)\n\n# Get list of all customers\ncustomers_df = session.table('SIMPLE_MLOPS_DEMO.RETAIL_DATA.CUSTOMERS').select('CUSTOMER_ID').distinct()\n\n# Create spine dataframe\nspine_df = target_df.join(customers_df, on=['CUSTOMER_ID'], how='outer')\nspine_df = spine_df.fillna(0, subset='NEXT_MONTH_REVENUE')\nspine_df.order_by('CUSTOMER_ID').show()"
  },
  {
   "cell_type": "code",
   "execution_count": null,
   "id": "ba43830e-d929-4fdf-a94a-f6761e09fa6b",
   "metadata": {
    "collapsed": false,
    "language": "python",
    "name": "cell4"
   },
   "outputs": [],
   "source": [
    "train_dataset = fs.generate_dataset(\n",
    "    name=\"SIMPLE_MLOPS_DEMO.FEATURE_STORE.NEXT_MONTH_REVENUE_DATASET\",\n",
    "    spine_df=spine_df,\n",
    "    features=[in_shop_transaction_fv, online_transaction_fv],\n",
    "    version=\"V1\",\n",
    "    spine_timestamp_col=\"FEATURE_CUTOFF_DATE\",\n",
    "    spine_label_cols=[\"NEXT_MONTH_REVENUE\"],\n",
    "    include_feature_view_timestamp_col=False,\n",
    "    desc=\"Initial Training Dataset\"\n",
    ")\n",
    "\n",
    "df = train_dataset.read.to_snowpark_dataframe()\n",
    "df.show()"
   ]
  },
  {
   "cell_type": "markdown",
   "id": "16d081cd-ff03-4efa-9134-ae34a29e0190",
   "metadata": {
    "collapsed": false,
    "name": "cell32"
   },
   "source": "### Train an XGBoost Model\nWe randomly split the data, allocating **90% for training** and **10% for validation**.  \nThe training data is then used to train an **XGBoost regression model** with the `XGBRegressor` from the **Snowflake ML library**."
  },
  {
   "cell_type": "code",
   "execution_count": null,
   "id": "0fbea5f6-0020-4465-add6-8a87653644ac",
   "metadata": {
    "collapsed": false,
    "language": "python",
    "name": "cell21"
   },
   "outputs": [],
   "source": [
    "# Split the data into train and test sets\n",
    "train_df, test_df = df.random_split(weights=[0.9, 0.1], seed=0)\n",
    "\n",
    "print(f'Number of samples in train: {train_df.count()}')\n",
    "print(f'Number of samples in test: {test_df.count()}')\n",
    "\n",
    "feature_columns = train_df.drop(['CUSTOMER_ID','FEATURE_CUTOFF_DATE','NEXT_MONTH_REVENUE']).columns\n",
    "\n",
    "xgb_model = XGBRegressor(\n",
    "    input_cols=feature_columns,\n",
    "    label_cols=['NEXT_MONTH_REVENUE'],\n",
    "    output_cols=['NEXT_MONTH_REVENUE_PREDICTION'],\n",
    "    n_estimators=100,\n",
    "    learning_rate=0.05,\n",
    "    random_state=0\n",
    ")\n",
    "\n",
    "xgb_model = xgb_model.fit(train_df)"
   ]
  },
  {
   "cell_type": "markdown",
   "id": "1ca74d9a-0504-48ae-a6ab-b399a56f2d56",
   "metadata": {
    "collapsed": false,
    "name": "cell24"
   },
   "source": "### Evaluate the XGBoost Model\nYou can immediately use the model’s `predict()` function to generate predictions on the test data.  \nSnowflake ML also provides built-in metric functions, such as **Mean Absolute Percentage Error (MAPE)**, for evaluating model performance.  \n\nAdditionally, you can convert the model back to its native open-source format using `xgb_model.to_xgboost()`.  \nThis allows you to access feature importance values, which we visualize to better understand what influences the model’s predictions.  \n\nAs shown in the plot, the model correctly identified that **IN_SHOP transactions** are the primary driver of the target variable, `NEXT_MONTH_REVENUE`."
  },
  {
   "cell_type": "code",
   "execution_count": null,
   "id": "9737ef58-d313-4138-91e7-bb5becf601ea",
   "metadata": {
    "collapsed": false,
    "language": "python",
    "name": "cell27"
   },
   "outputs": [],
   "source": [
    "predictions = xgb_model.predict(test_df)\n",
    "# Analyze results\n",
    "mape = mean_absolute_percentage_error(\n",
    "    df=predictions, \n",
    "    y_true_col_names=\"NEXT_MONTH_REVENUE\", \n",
    "    y_pred_col_names=\"NEXT_MONTH_REVENUE_PREDICTION\"\n",
    ")\n",
    "\n",
    "print(f\"Mean absolute percentage error: {mape}\")\n",
    "\n",
    "col1, col2 = st.columns(2)\n",
    "with col1:\n",
    "    # Plot Feature Importance\n",
    "    plot_data = pd.DataFrame(\n",
    "        list(zip(feature_columns, xgb_model.to_xgboost().feature_importances_)), \n",
    "        columns=['FEATURE','IMPORTANCE']\n",
    "    )\n",
    "    \n",
    "    fig = px.bar(\n",
    "        plot_data.sort_values('IMPORTANCE', ascending=False).head(10),\n",
    "        x=\"IMPORTANCE\",\n",
    "        y=\"FEATURE\",\n",
    "        title=\"Feature Importance\",\n",
    "        labels={\"FEATURE\": \"Feature\", \"IMPORTANCE\": \"Importance\"},\n",
    "        orientation=\"h\"\n",
    "    )\n",
    "    st.plotly_chart(fig, use_container_width=True)\n",
    "with col2:\n",
    "    # Plot Predictions\n",
    "    fig = px.scatter(\n",
    "        predictions[\"NEXT_MONTH_REVENUE\", \"NEXT_MONTH_REVENUE_PREDICTION\"].to_pandas().astype(\"float64\"),\n",
    "        x=\"NEXT_MONTH_REVENUE\",\n",
    "        y=\"NEXT_MONTH_REVENUE_PREDICTION\",\n",
    "        title=\"Actual vs Predicted Revenue\",\n",
    "        labels={\n",
    "            \"NEXT_MONTH_REVENUE\": \"Actual Revenue\",\n",
    "            \"NEXT_MONTH_REVENUE_PREDICTION\": \"Predicted Revenue\"\n",
    "        },\n",
    "        trendline=\"ols\",\n",
    "        trendline_color_override=\"red\"\n",
    "    )\n",
    "    st.plotly_chart(fig, use_container_width=True)"
   ]
  },
  {
   "cell_type": "markdown",
   "id": "720ad317-43d5-44d8-a66e-18abf67e4a28",
   "metadata": {
    "collapsed": false,
    "name": "cell33"
   },
   "source": "# 5 - Snowflake Model Registry\n### Setup Model Registry\nAfter training a model, the first step in operationalizing it and running inference in Snowflake is to **log the model in the Snowflake Model Registry**.  \n\nThe **Model Registry** allows you to securely manage models and their metadata in Snowflake, regardless of their origin or type, while also simplifying inference.  \nIt stores machine learning models as **first-class schema-level objects** within Snowflake.  \n\nBy setting `enable_monitoring` to True, the **Model Registry** can also be used for model monitoring, which we will implement in the next step.\n"
  },
  {
   "cell_type": "code",
   "execution_count": null,
   "id": "3570b13e-2b1d-480f-8a0b-e73488f7e3c6",
   "metadata": {
    "collapsed": false,
    "language": "python",
    "name": "cell28"
   },
   "outputs": [],
   "source": [
    "# Create reference to model registry\n",
    "reg = Registry(\n",
    "    session=session, \n",
    "    database_name=session.get_current_database(), \n",
    "    schema_name='MODEL_REGISTRY', \n",
    "    options={'enable_monitoring':True},\n",
    ")"
   ]
  },
  {
   "cell_type": "markdown",
   "id": "6a9d2ca7-7f49-4692-ad0a-aedcc614d322",
   "metadata": {
    "collapsed": false,
    "name": "cell34"
   },
   "source": "### Register Model in Model Registry\nThe Model Registry's `log_model()` function takes the model object and logs it to the registry.  \nThe **name** and **version** help ensure the correct model is retrieved for inference.  \n\nAdditionally, we log relevant metrics/information, including:  \n- **MAPE (Mean Absolute Percentage Error)** calculated on the test dataset  \n- **Feature importance values**  \n- **FEATURE_CUTOFF_DATE**   \n\nWe also specify the following parameters:  \n\n| Variable               | Description  |\n|------------------------|-------------|\n| `sample_input_data`    | Sample input data used to infer model signatures, serve as background data for explanations, and capture data lineage. |\n| `conda_dependencies`   | Specifies model dependencies, such as the XGBoost library. |\n| `relax_version`        | Enforces specific dependency versions for compatibility and reproducibility. |\n| `enable_explainability` | Adds an explainability function to the model, allowing us to better understand its predictions using SHAP values. |"
  },
  {
   "cell_type": "code",
   "execution_count": null,
   "id": "18434961-96fe-482a-90c5-40ea4ba8402b",
   "metadata": {
    "collapsed": false,
    "language": "python",
    "name": "cell29"
   },
   "outputs": [],
   "source": "registered_model = reg.log_model(\n    xgb_model,\n    model_name=\"CUSTOMER_REVENUE_MODEL\",\n    version_name='V1',\n    metrics={\n        'MAPE':mape, \n        'FEATURE_IMPORTANCE':dict(zip(feature_columns, xgb_model.to_xgboost().feature_importances_.astype('float'))),\n        \"TRAINING_DATA\":{'FEATURE_CUTOFF_DATE':'2024-03-31'}\n    },\n    comment=\"Model trained using XGBoost to predict revenue per customer for next month.\",\n    conda_dependencies=['xgboost'],\n    sample_input_data=train_df.select(feature_columns).limit(100),\n    options={\"relax_version\": False, \"enable_explainability\": True}\n)"
  },
  {
   "cell_type": "markdown",
   "id": "e6492927-bcca-4f8d-93c2-bb7fe490d466",
   "metadata": {
    "name": "cell41",
    "collapsed": false
   },
   "source": "### Operationalize Models\nThere are multiple ways to operationalize models using Snowflake's Model Registry.  \nOne simple approach is to use **aliases** for the model. By assigning the alias **`PRODUCTION`**, any inference pipeline referencing this alias will automatically use the correct production-ready model.  \n\nWhen a new model version is trained and ready for deployment, you can seamlessly update production by **removing the alias from the current model** and **assigning it to the new model**.  \nThis method ensures that existing ML pipelines remain unchanged, reducing the need for manual updates while maintaining a smooth model deployment process."
  },
  {
   "cell_type": "code",
   "execution_count": null,
   "id": "9141827b-939f-4e43-983d-7854519e5ab7",
   "metadata": {
    "collapsed": false,
    "language": "python",
    "name": "cell30"
   },
   "outputs": [],
   "source": "registered_model.set_alias('PRODUCTION')"
  },
  {
   "cell_type": "code",
   "id": "357c8eac-0ad9-4ed6-9f7d-c31c45b91cc8",
   "metadata": {
    "language": "python",
    "name": "cell42"
   },
   "outputs": [],
   "source": "# Retrieve the production model in your pipelines\nproduction_model = reg.get_model('CUSTOMER_REVENUE_MODEL').version('PRODUCTION')\nproduction_model.show_metrics()",
   "execution_count": null
  },
  {
   "cell_type": "markdown",
   "id": "b0ebd58e-640b-4442-8155-c64f8bad43d5",
   "metadata": {
    "name": "cell62",
    "collapsed": false
   },
   "source": "### Explore Models in the Model Registry UI\nThe [Model Registry UI]((https://docs.snowflake.com/en/developer-guide/snowflake-ml/model-registry/snowsight-ui)) in Snowsight enables you to discover and explore machine learning models available for use in Snowflake.  \n\nTo view a model's details, click on its corresponding row in the Models list.  \nThe details page provides essential information, including the model's description, tags, and versions.\n\nExample of the Model Registry UI:  \n![text](https://github.com/michaelgorkow/snowflake_simple_mlops/blob/main/resources/model_registry_ui.png?raw=true)"
  },
  {
   "cell_type": "code",
   "id": "dc08a60d-bdc8-45e8-9558-8b999d94e2b0",
   "metadata": {
    "language": "python",
    "name": "URL_MODEL_REGISTRY",
    "collapsed": false,
    "codeCollapsed": false
   },
   "outputs": [],
   "source": "get_snowsight_url(session, 'Link to Model Registry', '#/models')",
   "execution_count": null
  },
  {
   "cell_type": "markdown",
   "id": "0ca6642c-5fe5-4361-b970-2955611795cb",
   "metadata": {
    "name": "cell48",
    "collapsed": false
   },
   "source": "### Model explainability\nSince we enabled model_explainibility when registering the model, we can now call the explain function of the model that was auto-generated.  \nThe standard SHAP library is then used to visualise the SHAP values.\n\n**What are SHAP (SHapley Additive exPlanations) values?**  \n* SHAP (SHapley Additive exPlanations) values measure how much each feature contributes to the prediction.\n* The x-axis represents the mean absolute SHAP value, indicating the magnitude of a feature's impact on the model's predictions.\n* The y-axis lists the feature names.\n* Longer bars mean the feature has a greater impact on predictions.\n\n**Interpretation**  \nWhat is the meaning of the values?  \nFor the General Feature Importance on the left, think about it like this:  \nOn average, the feature (e.g. TOTAL_REVENUE_IN_SHOP_PAST_1_MONTH) affects the model’s output by approximately X units of revenue.  \n\nOn a more general note, in our case IN_SHOP revenue consistently ranks higher than online revenue, implying that the model sees in-shop purchases as a stronger signal for future revenue prediction.\n\nOn the right side we are plotting the local Feature Importance for single customers.\nThat means it can happen that certain customers have a strong record of ONLINE transactions and therefore are much more influenced by in-shop features than online features."
  },
  {
   "cell_type": "code",
   "id": "96c32cb8-a183-4f21-809b-941e9ac51842",
   "metadata": {
    "language": "python",
    "name": "cell65"
   },
   "outputs": [],
   "source": "# Calculate Shap values\nexplanations = production_model.run(test_df, function_name=\"explain\")\nexplanations = explanations.rename({col:col.replace('\"\"\"', '').upper() for col in explanations.columns})\n\nshap_columns = [col for col in explanations.columns if '_EXPLANATION' in col]\n\nexplanations = explanations.select('CUSTOMER_ID', *shap_columns)\nexplanations = explanations.to_pandas()",
   "execution_count": null
  },
  {
   "cell_type": "code",
   "id": "e4e92b79-f35f-4dcd-97e7-6f00a62d4e7a",
   "metadata": {
    "language": "python",
    "name": "cell67"
   },
   "outputs": [],
   "source": "# Plot Shap values\nselected_customer = st.selectbox('Select Customer:', options=explanations[['CUSTOMER_ID']].sort_values(by='CUSTOMER_ID'))\nselected_explanation = explanations[explanations['CUSTOMER_ID'] == selected_customer]\n\ncol1, col2 = st.columns(2)\nwith col1:\n    st.markdown(f'### Global Feature Importance:')\n    shap_exp = shap._explanation.Explanation(selected_explanation[shap_columns].values, feature_names = [col.replace('_EXPLANATION','') for col in shap_columns]) # wrapping them into a SHAP recognized object\n    shap.plots.bar(shap_exp)\nwith col2:\n    st.markdown(f'### Local Feature Importance for CUSTOMER_ID {int(selected_customer)}:')\n    shap.plots.bar(shap_exp[0])",
   "execution_count": null
  },
  {
   "cell_type": "markdown",
   "id": "e0a85689-b808-48ca-8c7c-cb3c307b59c0",
   "metadata": {
    "collapsed": false,
    "name": "cell35"
   },
   "source": "### Continious Model Monitoring\nModel behavior can change over time due to factors such as **input drift, stale training assumptions, data pipeline issues, hardware and software updates**.\n\n**ML Observability** enables you to monitor the quality of models registered in the **Snowflake Model Registry** across multiple dimensions, including **performance, drift, and volume**.  \n\nTo measure drift for model monitoring, we use two tables:  \n\n| Table      | Description  |\n|------------|-------------|\n| `BASELINE` | Contains a snapshot of data similar to `SOURCE`. It is used as a reference for comparing future feature values and predictions. |\n| `SOURCE`   | Stores future predictions and feature values for monitoring. |"
  },
  {
   "cell_type": "code",
   "id": "10552343-1009-4e62-989d-6afbbef0e1cb",
   "metadata": {
    "language": "python",
    "name": "cell44",
    "collapsed": false
   },
   "outputs": [],
   "source": "# Save baseline predictions\npredictions = predictions.with_column('FEATURE_CUTOFF_DATE', F.col('FEATURE_CUTOFF_DATE').cast('timestamp'))\npredictions = predictions.with_column('NEXT_MONTH_REVENUE_PREDICTION', F.col('NEXT_MONTH_REVENUE_PREDICTION').cast('number(38,2)'))\npredictions = predictions.with_column('NEXT_MONTH_REVENUE', F.col('NEXT_MONTH_REVENUE').cast('number(38,2)'))\npredictions.write.save_as_table('SIMPLE_MLOPS_DEMO.MODEL_REGISTRY.MM_REVENUE_BASELINE_V1', mode='overwrite')",
   "execution_count": null
  },
  {
   "cell_type": "markdown",
   "id": "d9d3f43e-0b16-4e68-a0f8-79d9be5edd1c",
   "metadata": {
    "name": "cell54",
    "collapsed": false
   },
   "source": "### Creating predictions for the next month\nWe use the trained model on our **April data** to predict each customer's **revenue for May**.  \nThe `get_feature_df()` function is a helper utility that constructs the **spine DataFrame** and retrieves the correct **point-in-time features** based on the `FEATURE_CUTOFF_DATE`.  \nThe predictions are then stored in the `SOURCE` table, which we will link to the **model monitor** for tracking and evaluation."
  },
  {
   "cell_type": "code",
   "id": "7c73ee7d-61ec-4842-b435-fd975061d2ea",
   "metadata": {
    "language": "python",
    "name": "cell7",
    "collapsed": false
   },
   "outputs": [],
   "source": "def build_feature_df(session, feature_cutoff_date, feature_views):\n    # Initialize the Feature Store.\n    fs = FeatureStore(\n        session=session, \n        database=session.get_current_database(), \n        name='FEATURE_STORE', \n        default_warehouse=session.get_current_warehouse(),\n        creation_mode=CreationMode.CREATE_IF_NOT_EXIST,\n    )\n    \n    # Retrieve all feature views (version 'V1') from the Feature Store.\n    fvs = [fs.get_feature_view(name=feature_view_name,version=feature_view_version) for feature_view_name, feature_view_version in feature_views.items()]\n    \n    # Create a base (spine) DataFrame containing distinct CUSTOMER_IDs and the feature cutoff date.\n    feature_df = session.table(f'{session.get_current_database()}.RETAIL_DATA.CUSTOMERS') \\\n                        .select('CUSTOMER_ID') \\\n                        .distinct() \\\n                        .with_column('FEATURE_CUTOFF_DATE', F.to_date(lit(feature_cutoff_date)))\n    \n    # Retrieve feature values from the Feature Store for the specified cutoff date.\n    feature_df = fs.retrieve_feature_values(\n        spine_df=feature_df,\n        features=fvs,\n        spine_timestamp_col=\"FEATURE_CUTOFF_DATE\"\n    )\n    \n    # Add a placeholder column for NEXT_MONTH_REVENUE\n    feature_df = feature_df.with_column('NEXT_MONTH_REVENUE', lit(None).cast('number(38,2)'))\n    \n    return feature_df",
   "execution_count": null
  },
  {
   "cell_type": "code",
   "execution_count": null,
   "id": "0a01cb20-5055-48b1-a78a-9f70dd9d4a84",
   "metadata": {
    "collapsed": false,
    "language": "python",
    "name": "cell37"
   },
   "outputs": [],
   "source": "feature_df = build_feature_df(\n    session, \n    feature_cutoff_date='2024-04-30', \n    feature_views={'IN_SHOP_REVENUE_FEATURES':'V1', 'ONLINE_REVENUE_FEATURES':'V1'}\n)\n\nprint('Feature DataFrame:')\nfeature_df.show()\n\n# Predict May values\npredictions = production_model.run(feature_df, function_name='PREDICT')\npredictions = predictions.with_column('FEATURE_CUTOFF_DATE', F.col('FEATURE_CUTOFF_DATE').cast('timestamp'))\npredictions = predictions.with_column('NEXT_MONTH_REVENUE_PREDICTION', F.col('NEXT_MONTH_REVENUE_PREDICTION').cast('number(38,2)'))\npredictions.write.save_as_table(table_name='SIMPLE_MLOPS_DEMO.MODEL_REGISTRY.MM_TRANS_SOURCE_V1', mode='overwrite')\n\n# Predictions\nprint('Predictions [column=NEXT_MONTH_REVENUE_PREDICTION]:')\nsession.table('SIMPLE_MLOPS_DEMO.MODEL_REGISTRY.MM_TRANS_SOURCE_V1').show()"
  },
  {
   "cell_type": "markdown",
   "id": "b9ca5a9b-1bbb-44a4-a8c0-05d360c8f5e8",
   "metadata": {
    "collapsed": false,
    "name": "cell6"
   },
   "source": "### Creating a Model Monitor  \n\nWe are setting up a **model monitor** to continuously calculate and track model performance and drift over time.  \n\nThese calculations are based on the **`BASELINE`** and **`SOURCE`** tables created earlier.  \nEach model requires its own dedicated **model monitor** to ensure accurate tracking and evaluation."
  },
  {
   "cell_type": "code",
   "id": "d2614e2f-4856-4e5b-a5a5-d78b4f3eeaea",
   "metadata": {
    "language": "python",
    "name": "cell8"
   },
   "outputs": [],
   "source": "# Enable once 1.7.3 with bugfix is available\nsource_config = ModelMonitorSourceConfig(\n    source='SIMPLE_MLOPS_DEMO.MODEL_REGISTRY.MM_TRANS_SOURCE_V1',\n    timestamp_column='FEATURE_CUTOFF_DATE',\n    id_columns=['CUSTOMER_ID'],\n    prediction_score_columns=['NEXT_MONTH_REVENUE_PREDICTION'],\n    actual_score_columns=['NEXT_MONTH_REVENUE'],\n    baseline='SIMPLE_MLOPS_DEMO.MODEL_REGISTRY.MM_REVENUE_BASELINE_V1'\n)\n\nmonitor_config = ModelMonitorConfig(\n    model_version=reg.get_model('CUSTOMER_REVENUE_MODEL').version('PRODUCTION'),\n    model_function_name='predict',\n    background_compute_warehouse_name='COMPUTE_WH',\n    refresh_interval='1 minute',\n    aggregation_window='1 day'\n)\n\nmodel_monitor = reg.add_monitor(\n    name='SIMPLE_MLOPS_DEMO.MODEL_REGISTRY.MM_V1',\n    source_config=source_config,\n    model_monitor_config=monitor_config\n)",
   "execution_count": null
  },
  {
   "cell_type": "markdown",
   "id": "3f64990a-9de7-42f5-af03-525cf41a057a",
   "metadata": {
    "name": "cell53",
    "collapsed": false
   },
   "source": "### Simulating the next month of Customer Transactions\nOur model has predicted each customer's **revenue for May 2024** and stored the results in the **`SOURCE`** table.  \nNext, we simulate the actual transactions for May and update the **true revenue values** for each customer in the **`SOURCE`** table.  \nWhen the **model monitor** refreshes, it will use these updated values to calculate various **model performance metrics**, including the MAPE."
  },
  {
   "cell_type": "code",
   "execution_count": null,
   "id": "c6fa1731-d7d4-4aff-bf0a-1e4f2b36a286",
   "metadata": {
    "collapsed": false,
    "language": "python",
    "name": "cell49"
   },
   "outputs": [],
   "source": "# Add new transactions (created as part of the initial demo setup)\nnew_transactions = session.table('SIMPLE_MLOPS_DEMO._DATA_GENERATION._TRANSACTIONS').filter(col('DATE').between('2024-05-01','2024-05-31'))\nnew_transactions.write.save_as_table(table_name='SIMPLE_MLOPS_DEMO.RETAIL_DATA.TRANSACTIONS', mode='append')\n\n# Calculate actual values\nactual_values_df = (\n    session.table('SIMPLE_MLOPS_DEMO.RETAIL_DATA.TRANSACTIONS')\n    .filter(col('DATE').between('2024-05-01','2024-05-31'))\n    .group_by(['CUSTOMER_ID'])\n    .agg(F.sum('TRANSACTION_AMOUNT').as_('TOTAL_REVENUE'))\n    .with_column('DATE', F.to_date(lit('2024-04-30')))\n)\n\n# Get list of all customers\ncustomers_df = session.table('SIMPLE_MLOPS_DEMO.RETAIL_DATA.CUSTOMERS').select('CUSTOMER_ID').distinct()\n\n# Assume 0 revenue for customers without transactions\nactual_values_df = actual_values_df.join(customers_df, on=['CUSTOMER_ID'], how='outer')\nactual_values_df = actual_values_df.fillna(0,subset='TOTAL_REVENUE')\n\n# Update source table from model monitor\nsource_table = session.table('SIMPLE_MLOPS_DEMO.MODEL_REGISTRY.MM_TRANS_SOURCE_V1')\nsource_table.update(\n    condition=(\n        (source_table['FEATURE_CUTOFF_DATE'] == actual_values_df['DATE']) &\n        (source_table['CUSTOMER_ID'] == actual_values_df['CUSTOMER_ID'])\n    ),\n    assignments={\n        \"NEXT_MONTH_REVENUE\": actual_values_df['TOTAL_REVENUE'],\n    },\n    source=actual_values_df\n)"
  },
  {
   "cell_type": "markdown",
   "id": "4e684bbe-dac6-4f97-8bc4-ca1e6afdd5ee",
   "metadata": {
    "collapsed": false,
    "name": "cell39"
   },
   "source": "## Simulate Customer Transactions until 2025-01-31\nFor convenience, I encapsulated all the logic for simulating future months into the helper function `simulate_model_performance()`.  \nWe use this function to simulate the model's behavior until January 2025."
  },
  {
   "cell_type": "code",
   "execution_count": null,
   "id": "fdd81b52-4d83-4a22-be1d-39cbe2d9ec12",
   "metadata": {
    "language": "python",
    "name": "cell75",
    "collapsed": false
   },
   "outputs": [],
   "source": "start_date = '2024-06-01'\nend_date = '2025-01-31'\nmodel_version = 'PRODUCTION'\n\nsimulate_model_performance(session, start_date, end_date, model_version, generate_data=True)"
  },
  {
   "cell_type": "markdown",
   "id": "87c08704-b178-40b7-888b-7b4b0c75eac7",
   "metadata": {
    "collapsed": false,
    "name": "cell46"
   },
   "source": "## Explore the Model Monitor\nNavigate to the Model Monitor and observe the `MAPE` and `Wasserstein`  for the last months.  \n\nYou will notice the following:\n* Declining Model Performance\n    * :arrow_up_small: MAPE (Mean Average Percentage Error)\n* Feature Drift\n    * :arrow_down_small: Difference of means for TOTAL_REVENUE_IN_SHOP_PAST_1_MONTHS (less in shop transaction volume)\n    * :arrow_up_small: Difference of means for TOTAL_REVENUE_ONLINE_PAST_1_MONTHS (more online transaction volume)\n\nWhy is that?  \nWell, if we visualize the monthly revenue distribution, we can see that online revenue grew while in-shop transaction declined.\n\nInstead of using the builtin UI, you can also query model monitor metrics using the following table functions and build your own visuals:\n* [MODEL_MONITOR_PERFORMANCE_METRIC](https://docs.snowflake.com/en/sql-reference/functions/model-monitor-performance-metric)\n* [MODEL_MONITOR_DRIFT_METRIC](https://docs.snowflake.com/en/sql-reference/functions/model-monitor-drift-metric)\n* [MODEL_MONITOR_STAT_METRIC](https://docs.snowflake.com/en/sql-reference/functions/model-monitor-stat-metric)"
  },
  {
   "cell_type": "code",
   "id": "15cd70e5-503c-4952-89b8-f80a1a33434e",
   "metadata": {
    "language": "python",
    "name": "URL_MODEL_MONITOR",
    "collapsed": false,
    "codeCollapsed": false
   },
   "outputs": [],
   "source": "get_snowsight_url(session, 'Link to Model Monitor', '#/data/databases/SIMPLE_MLOPS_DEMO/schemas/MODEL_REGISTRY/model/CUSTOMER_REVENUE_MODEL/version/V1/monitors/MM_V1/dashboard')",
   "execution_count": null
  },
  {
   "cell_type": "code",
   "id": "35973caf-79c3-4378-a258-f7ace897cba9",
   "metadata": {
    "language": "python",
    "name": "cell58",
    "collapsed": false,
    "codeCollapsed": true
   },
   "outputs": [],
   "source": "with st.expander('**Need help deciding for the right metric?**', expanded=False):\n    text = \"\"\"### **Overview of Feature Drift Metrics:**\n\n|                      | **Jensen-Shannon Distance** | **Wasserstein Distance** | **Difference of Means** |\n|-----------------------------|----------------|--------------------------|-------------------------|\n| **What It Measures**        | Difference in probability distributions | Amount of movement needed to align two distributions | Simple difference between means of two distributions |\n| **Intuition**               | Measures how **different** two distributions are (based on KL divergence, but smoothed and symmetric). | Measures the **work needed** to \"move\" one distribution to match the other. | Measures the shift in the **central tendency** of the feature values. |\n| **Range**                   | 0 to 1 (bounded) | 0 to ∞ (can grow indefinitely) | -∞ to ∞ (unbounded) |\n| **Interpretability**        | 0 = identical, 1 = completely different | Larger values mean greater distribution shift | Positive = mean has increased, Negative = mean has decreased |\n| **Computational Complexity** | Faster, works well with discrete values | Slower, requires solving an optimization problem | Very fast (simple arithmetic) |\n| **Small shifts in values**  | May not detect it well if probability distributions overlap a lot. | Captures even small shifts because it looks at the actual distance between values. | Only detects shifts in the mean, not overall distribution changes. |\n| **Major changes in shape**  | Captures well if distributions change significantly. | Captures well if mass shifts significantly. | ❌ No, only captures mean changes. |\n| **Outliers or extreme shifts** | May be less sensitive if distributions overlap in many places. | More sensitive because it considers the actual movement of values. | Very sensitive to outliers (mean can shift significantly). |\n| **Best for categorical distributions** (e.g., customer segments) | ✅ Yes | ❌ No | ❌ No |\n| **Best for continuous features** (e.g., age, income) | ❌ No | ✅ Yes | ✅ Yes |\n| **Best for detecting gradual numerical shifts** | ❌ No | ✅ Yes | ✅ Yes, but only if the mean is shifting. |\n| **Best for interpretable (bounded 0-1) metric** | ✅ Yes | ❌ No | ❌ No |\"\"\"\n    st.markdown(text)",
   "execution_count": null
  },
  {
   "cell_type": "code",
   "id": "43382ec6-871f-4262-b30a-f485f5bb8a5d",
   "metadata": {
    "language": "python",
    "name": "cell83"
   },
   "outputs": [],
   "source": "# Allowed performance metrics\nALLOWED_PERFORMANCE_METRICS = {\n    'ROC_AUC', 'CLASSIFICATION_ACCURACY', 'F1_SCORE', 'MAPE', 'MSE', \n    'RMSE', 'MAE', 'PRECISION', 'RECALL'\n}\n\n# Function to retrieve performance metrics for models from the model registry\ndef get_model_performance_metrics(session, models, metrics, start_date, end_date, aggregation):\n    \"\"\"\n    Fetches model performance metrics from the model registry for given models and metrics.\n    \n    Args:\n        session: Active database session.\n        models (list): List of models to fetch metrics for.\n        metrics (list): List of performance metrics to retrieve.\n        start_date (str): Start date for metrics retrieval.\n        end_date (str): End date for metrics retrieval.\n        aggregation (str): Aggregation window (e.g., '1 day').\n    \n    Returns:\n        DataFrame: Aggregated model performance metrics.\n    \"\"\"\n    # Initialize the model registry\n    registry = Registry(\n        session=session, \n        database_name=session.get_current_database(), \n        schema_name='MODEL_REGISTRY', \n        options={'enable_monitoring': True}\n    )\n    \n    # Validate requested metrics\n    invalid_metrics = set(metrics) - ALLOWED_PERFORMANCE_METRICS\n    if invalid_metrics:\n        raise ValueError(f\"Invalid metric(s) found: {invalid_metrics}\")\n    \n    all_models_metrics = []\n    \n    # Iterate through each model\n    for model in models:\n        model_name = model.model_name\n        model_version_name = model.version_name\n        monitor_name = str(registry.get_monitor(model_version=model).name)\n        \n        model_metrics_dfs = []\n        \n        # Fetch each metric for the model\n        for metric in metrics:\n            df_metric = (\n                session.table_function(\n                    \"MODEL_MONITOR_PERFORMANCE_METRIC\",\n                    lit(monitor_name), lit(metric), lit(aggregation), lit(start_date), lit(end_date)\n                )\n                .with_column('MODEL_NAME', lit(model_name))\n                .with_column('MODEL_VERSION_NAME', lit(model_version_name))\n                .with_column('MODEL_MONITOR_NAME', lit(monitor_name))\n                .rename({'METRIC_VALUE': metric})\n                .select(['MODEL_NAME', 'MODEL_VERSION_NAME', 'MODEL_MONITOR_NAME', 'EVENT_TIMESTAMP', metric])\n            )\n            model_metrics_dfs.append(df_metric)\n        \n        # Combine metrics for the model\n        model_metrics_df = model_metrics_dfs[0]\n        for df in model_metrics_dfs[1:]:\n            model_metrics_df = model_metrics_df.join(df, on=['MODEL_NAME', 'MODEL_VERSION_NAME', 'MODEL_MONITOR_NAME', 'EVENT_TIMESTAMP'], how='inner')\n        \n        all_models_metrics.append(model_metrics_df)\n    \n    # Combine all models' metrics\n    final_df = all_models_metrics[0]\n    for df in all_models_metrics[1:]:\n        final_df = final_df.union_all(df)\n    \n    return final_df.order_by(['MODEL_NAME', 'MODEL_VERSION_NAME', 'MODEL_MONITOR_NAME', 'EVENT_TIMESTAMP'])\n\n# Calling the function\nmodel_performance_metrics = get_model_performance_metrics(\n    session=session, \n    models=[\n        reg.get_model('CUSTOMER_REVENUE_MODEL').version('V1'),\n        reg.get_model('CUSTOMER_REVENUE_MODEL').version('PRODUCTION')\n    ], \n    metrics=['MAPE', 'RMSE'], \n    start_date='2024-01-01', \n    end_date='2024-12-31', \n    aggregation='1 day'\n)\n\nmodel_performance_metrics",
   "execution_count": null
  },
  {
   "cell_type": "code",
   "id": "6f887bb3-b53a-4930-8fd7-b7ca35becd2c",
   "metadata": {
    "language": "python",
    "name": "cell70"
   },
   "outputs": [],
   "source": "# Allowed performance metrics\nALLOWED_DRIFT_METRICS = {\n    'DIFFERENCE_OF_MEANS', 'JENSEN_SHANNON', 'WASSERSTEIN'\n}\n\n# Function to retrieve performance metrics for models from the model registry\ndef get_model_drift_metrics(session, models, metrics, start_date, end_date, aggregation, columns):\n    \"\"\"\n    Fetches model performance metrics from the model registry for given models and metrics.\n    \n    Args:\n        session: Active database session.\n        models (list): List of models to fetch metrics for.\n        metrics (list): List of performance metrics to retrieve.\n        start_date (str): Start date for metrics retrieval.\n        end_date (str): End date for metrics retrieval.\n        aggregation (str): Aggregation window (e.g., '1 day').\n    \n    Returns:\n        DataFrame: Aggregated model performance metrics.\n    \"\"\"\n    # Initialize the model registry\n    registry = Registry(\n        session=session, \n        database_name=session.get_current_database(), \n        schema_name='MODEL_REGISTRY', \n        options={'enable_monitoring': True}\n    )\n    \n    # Validate requested metrics\n    invalid_metrics = set(metrics) - ALLOWED_DRIFT_METRICS\n    if invalid_metrics:\n        raise ValueError(f\"Invalid metric(s) found: {invalid_metrics}\")\n    \n    all_models_metrics = []\n    \n    # Iterate through each model\n    for model in models:\n        model_name = model.model_name\n        monitor_name = str(registry.get_monitor(model_version=model).name)\n        \n        model_metrics_dfs = []\n        \n        # Fetch each metric for the model\n        for column in columns:\n            column_metrics_dfs = []\n            for metric in metrics:\n                df_metric = (\n                    session.table_function(\n                        \"MODEL_MONITOR_DRIFT_METRIC\",\n                        lit(monitor_name), lit(metric), lit(column), lit(aggregation), lit(start_date), lit(end_date)\n                    )\n                    .with_column('MODEL_NAME', lit(model_name))\n                    .with_column('MODEL_VERSION_NAME', lit(model.version_name))\n                    .with_column('MODEL_MONITOR_NAME', lit(monitor_name))\n                    .rename({'METRIC_VALUE': metric})\n                    .select(['MODEL_NAME', 'MODEL_VERSION_NAME', 'MODEL_MONITOR_NAME', 'EVENT_TIMESTAMP', 'COLUMN_NAME', metric])\n                )\n                column_metrics_dfs.append(df_metric)\n            column_metrics_df = column_metrics_dfs[0]\n            for df in column_metrics_dfs[1:]:\n                column_metrics_df = column_metrics_df.join(df, on=['MODEL_NAME', 'MODEL_VERSION_NAME', 'MODEL_MONITOR_NAME', 'EVENT_TIMESTAMP', 'COLUMN_NAME'], how='inner')\n            model_metrics_dfs.append(column_metrics_df)\n\n        # Combine metrics for the model\n        model_metrics_df = model_metrics_dfs[0]\n        for df in model_metrics_dfs[1:]:\n            model_metrics_df = model_metrics_df.union_all(df)\n    \n        all_models_metrics.append(model_metrics_df)\n    \n    # Combine all models' metrics\n    final_df = all_models_metrics[0]\n    for df in all_models_metrics[1:]:\n        final_df = final_df.union_all(df)\n    \n    return final_df.order_by(['MODEL_NAME', 'MODEL_VERSION_NAME', 'MODEL_MONITOR_NAME', 'COLUMN_NAME', 'EVENT_TIMESTAMP'])\n\n# Calling the function\nmodel_drift_metrics = get_model_drift_metrics(\n    session=session, \n    models=[\n        reg.get_model('CUSTOMER_REVENUE_MODEL').version('PRODUCTION')\n    ], \n    metrics=['JENSEN_SHANNON', 'WASSERSTEIN','DIFFERENCE_OF_MEANS'], \n    start_date='2024-01-01', \n    end_date='2024-12-31', \n    aggregation='1 day',\n    columns=['TOTAL_REVENUE_IN_SHOP_PAST_1_MONTHS','TOTAL_REVENUE_IN_SHOP_PAST_2_MONTHS','TOTAL_REVENUE_IN_SHOP_PAST_3_MONTHS']\n)\n\nmodel_drift_metrics",
   "execution_count": null
  },
  {
   "cell_type": "markdown",
   "id": "0ccf7d35-2778-46c4-ac18-1236396a9f1e",
   "metadata": {
    "name": "PLOT_MM",
    "collapsed": false
   },
   "source": "# PLOT MM"
  },
  {
   "cell_type": "code",
   "id": "2b606d73-54ac-4ea4-b566-95a859b6312c",
   "metadata": {
    "language": "python",
    "name": "cell112"
   },
   "outputs": [],
   "source": "#@st.cache_resource\ndef get_all_models():\n    # Fetch and process model data\n    all_models = registry.show_models()\n    all_models['model_task'] = all_models['name'].apply(lambda x: str(registry.get_model(x).version('default').get_model_task()))\n    all_models['versions'] = all_models['versions'].apply(lambda x: ast.literal_eval(x))\n    all_models['aliases'] = all_models['aliases'].apply(lambda x: ast.literal_eval(x))\n    all_models = all_models.explode('versions')\n    all_models = all_models.rename(columns={'versions': 'model_version', 'name': 'model_name'})\n    all_models = all_models.sort_values(['model_name', 'created_on', 'model_version'])\n    all_models = all_models[['model_name', 'model_version', 'aliases', 'model_task']]\n    return all_models\n\n@st.cache_resource\ndef get_model(model_name, model_version):\n    return registry.get_model(model_name).version(model_version)\n\nimport ast\nimport plotly.graph_objects as go\n\nALLOWED_MODEL_TYPES_METRICS = {\n    'TASK.TABULAR_BINARY_CLASSIFICATION': ['PRECISION', 'F1_SCORE', 'CLASSIFICATION_ACCURACY', 'ROC_AUC', 'RECALL'],\n    'Task.TABULAR_REGRESSION': ['MSE', 'RMSE', 'MAPE', 'MAE']\n}\n\nregistry = Registry(\n    session=session, \n    database_name=session.get_current_database(), \n    schema_name='MODEL_REGISTRY', \n    options={'enable_monitoring': True}\n)\n\n# Fetch and process model data\nall_models = get_all_models()\n\nwith st.expander('Select Models:', expanded=True):\n    selection = st.dataframe(all_models, selection_mode='multi-row', on_select=\"rerun\", hide_index=True, use_container_width=True)\n\nif len(selection['selection']['rows']) == 0:\n    st.info('Select models.')\nelse:\n    selected_models = all_models.iloc[selection['selection']['rows']]\n    if selected_models['model_task'].nunique() > 1:\n        st.error('All selected models must have the same task.')\n    else:\n        with st.form(\"my_form\"):\n            col1, col2 = st.columns(2)\n            if selected_models.iloc[0]['model_task'] == 'Task.TABULAR_REGRESSION':\n                selected_performance_metric = col1.selectbox('Select Model Performance Metric:', ALLOWED_MODEL_TYPES_METRICS['Task.TABULAR_REGRESSION'])\n            else:\n                selected_performance_metric = col1.selectbox('Select Model Performance Metric:', ALLOWED_MODEL_TYPES_METRICS['Task.TABULAR_BINARY_CLASSIFICATION'])\n            selected_drift_metric = col2.selectbox('Select Model Drift Metric:', ALLOWED_DRIFT_METRICS)\n\n            #models = selected_models.apply(lambda row: registry.get_model(row['model_name']).version(row['model_version']), axis=1).tolist()\n            models = selected_models.apply(lambda row: get_model(row['model_name'],row['model_version']), axis=1).tolist()\n            all_monitors = pd.DataFrame(registry.show_model_monitors())\n            all_monitors['model'] = all_monitors['model'].apply(lambda x: ast.literal_eval(x))\n            all_monitors['source'] = all_monitors['source'].apply(lambda x: ast.literal_eval(x))\n            all_monitors['model_name'] = all_monitors['model'].apply(lambda x: x['model_name'])\n            all_monitors['model_version'] = all_monitors['model'].apply(lambda x: x['version_name'])\n            all_monitors = selected_models.merge(all_monitors, on=['model_name', 'model_version'], how='inner')\n            all_monitors['monitor_columns'] = all_monitors['source'].apply(lambda x: session.table(f\"{x['database_name']}.{x['schema_name']}.{x['name']}\").columns)\n            all_monitors = all_monitors[['model_name', 'model_version', 'monitor_columns']]\n            selected_columns = st.multiselect('Select Drift columns:', all_monitors['monitor_columns'].explode().unique())\n            submitted = st.form_submit_button(\"Submit\")\n            \n            if submitted:\n                df_model = get_model_performance_metrics(\n                    session=session,\n                    models=models,\n                    metrics=[selected_performance_metric],\n                    start_date='2024-01-01',\n                    end_date='2024-12-31',\n                    aggregation='1 day'\n                ).to_pandas()\n\n                df_drift = get_model_drift_metrics(\n                    session=session,\n                    models=models,\n                    metrics=[selected_drift_metric],\n                    start_date='2024-01-01',\n                    end_date='2024-12-31',\n                    aggregation='1 day',\n                    columns=selected_columns\n                ).to_pandas()\n\n                df_drift[\"EVENT_TIMESTAMP\"] = pd.to_datetime(df_drift[\"EVENT_TIMESTAMP\"])\n                df_model[\"EVENT_TIMESTAMP\"] = pd.to_datetime(df_model[\"EVENT_TIMESTAMP\"])\n\n                fig = go.Figure()\n                \n                for model_version in df_model[\"MODEL_VERSION_NAME\"].unique():\n                    df_subset = df_model[df_model[\"MODEL_VERSION_NAME\"] == model_version]\n                    fig.add_trace(go.Scatter(\n                        x=df_subset[\"EVENT_TIMESTAMP\"],\n                        y=df_subset[selected_performance_metric],\n                        mode='lines+markers',\n                        line=dict(dash='solid', width=2),\n                        marker=dict(symbol='diamond', size=12),\n                        name=f\"{df_subset.iloc[0]['MODEL_NAME']} - {model_version}\",\n                        yaxis='y1',\n                        legendgroup='model_metrics',\n                        legendgrouptitle_text='Model Metrics:'\n                    ))\n                \n                for model_version in df_drift[\"MODEL_VERSION_NAME\"].unique():\n                    df_subset = df_drift[df_drift[\"MODEL_VERSION_NAME\"] == model_version]\n                    for column_name in df_subset[\"COLUMN_NAME\"].unique():\n                        df_subsubset = df_subset[df_subset[\"COLUMN_NAME\"] == column_name]\n                        fig.add_trace(go.Scatter(\n                            x=df_subsubset[\"EVENT_TIMESTAMP\"],\n                            y=df_subsubset[selected_drift_metric],\n                            mode='lines+markers',\n                            line=dict(dash='dot', width=2),\n                            marker=dict(symbol='square', size=8),\n                            name=f'{column_name}',\n                            yaxis='y2',\n                            legendgroup=f\"{df_subsubset.iloc[0]['MODEL_NAME']} - {df_subsubset.iloc[0]['MODEL_VERSION_NAME']}\",\n                            legendgrouptitle_text=f\"Drift: {df_subsubset.iloc[0]['MODEL_NAME']} - {df_subsubset.iloc[0]['MODEL_VERSION_NAME']}\"\n                        ))\n\n                fig.update_layout(\n                    title=\"Model Performance & Feature Drift Over Time\",\n                    xaxis_title=\"Event Timestamp\",\n                    xaxis=dict(type='date'),\n                    yaxis=dict(title=selected_performance_metric, side=\"left\", showgrid=False),\n                    yaxis2=dict(title=selected_drift_metric, overlaying=\"y\", side=\"right\", showgrid=False),\n                    legend=dict(orientation=\"h\", yanchor=\"top\", y=-0.2, xanchor=\"left\", x=0.25, traceorder=\"grouped\", itemwidth=30),\n                    margin=dict(t=50),\n                    legend_tracegroupgap=10,\n                    template=\"plotly_white\"\n                )\n                \n                st.plotly_chart(fig)",
   "execution_count": null
  },
  {
   "cell_type": "code",
   "id": "702040ef-a57b-410e-ba84-917bc5862b22",
   "metadata": {
    "language": "python",
    "name": "cell3"
   },
   "outputs": [],
   "source": "df_model",
   "execution_count": null
  },
  {
   "cell_type": "code",
   "id": "7241dd8a-eb07-4530-bb60-f47f748b5dee",
   "metadata": {
    "language": "python",
    "name": "cell77"
   },
   "outputs": [],
   "source": "cortex_helper_visualize_query(model_drift_metrics, 'Plot the jensen shannon distance. Create one line per unique column name in column_name and make sure event timestamp is sorted.')",
   "execution_count": null
  },
  {
   "cell_type": "code",
   "id": "5c5898f5-3c74-40ee-b407-0f59a72a98bb",
   "metadata": {
    "language": "python",
    "name": "cell69"
   },
   "outputs": [],
   "source": "df_drift_performance_metric_column = (\n    session.table_function(\n        \"MODEL_MONITOR_DRIFT_METRIC\",\n        lit('MM_V1'),\n        lit('WASSERSTEIN'),\n        lit('TOTAL_REVENUE_IN_SHOP_PAST_1_MONTHS'),\n        lit('1 day'),\n        lit('2024-01-01'),\n        lit('2024-12-31')\n    )\n    .rename({'METRIC_VALUE': 'JENSEN_SHANNON'})\n    .with_column('MODEL_NAME', lit('ECOMM_MODEL'))\n    .with_column('MODEL_MONITOR_NAME', lit('MM_MONITOR_NAME'))\n    .select('MODEL_NAME','MODEL_MONITOR_NAME','EVENT_TIMESTAMP','COLUMN_NAME','JENSEN_SHANNON')\n)\n\ndf_drift_performance_metric_column",
   "execution_count": null
  },
  {
   "cell_type": "code",
   "execution_count": null,
   "id": "748aa7e2-971d-4479-9d17-570bd066cc0b",
   "metadata": {
    "language": "python",
    "name": "cell50",
    "collapsed": false
   },
   "outputs": [],
   "source": [
    "plot_inshop_vs_online_revenue(transactions_df)"
   ]
  },
  {
   "cell_type": "markdown",
   "id": "d2686a6c-4210-45f7-ab2d-32fb61a9d11f",
   "metadata": {
    "collapsed": false,
    "name": "cell78"
   },
   "source": "## Train a new Model Version  \n\nSince **user behavior has changed**, we will train a **new version of our model** using fresh data.  \n\nTo streamline this process, I have encapsulated the entire training workflow into the helper function `train_new_model()`, which automates the following steps:  \n\n- **Creates the spine DataFrame**, including the target variable.  \n- **Retrieves features** from the Feature Store.  \n- **Creates a Snowflake Dataset** from the training data (ensuring reproducibility with a snapshot).  \n- **Trains a new XGBoost model**.  \n- **Registers the model** in the Snowflake Model Registry.  \n- **Sets up a new model monitor** to track performance and drift.  \n- **Compares model performance** against the existing production model.  \n- **Deploys the new model** if it outperforms the current one by assigning it the **\"PRODUCTION\"** alias.  \n\nSince the training data includes **June, July, and August 2024** (covering training data up to **August 31, 2024**, and looking back three months), the model should recognize that **ONLINE transactions** have become a major driver of customer revenue."
  },
  {
   "cell_type": "code",
   "execution_count": null,
   "id": "c02127e0-da97-460b-9b3c-bbf82c6dc7ba",
   "metadata": {
    "collapsed": false,
    "language": "python",
    "name": "cell90"
   },
   "outputs": [],
   "source": [
    "feature_cutoff_date = '2024-08-31'\n",
    "target_start_date = '2024-09-01'\n",
    "target_end_date = '2024-09-30'\n",
    "model_version = 'V2'\n",
    "\n",
    "train_new_model(session, feature_cutoff_date, target_start_date, target_end_date, model_version)"
   ]
  },
  {
   "cell_type": "markdown",
   "id": "d75783fe-e8ed-435f-ab39-8d592166576d",
   "metadata": {
    "name": "cell55",
    "collapsed": false
   },
   "source": "### Simulate Model performance for Model Version V2 until 2025-01-31\nOnce again, we are simulating **model performance** based on customer transactions up to **January 2025**.  \nMake sure to check the **model monitor** to evaluate whether the new model version trained on more recent data performs better.  \nAdditionally, analyze the **feature drift**, where you’ll notice that the trend for the **V2 model** is much more stable."
  },
  {
   "cell_type": "code",
   "execution_count": null,
   "id": "9781793a-c85f-40a5-8264-bbb7e9e8b4d7",
   "metadata": {
    "collapsed": false,
    "language": "python",
    "name": "cell61"
   },
   "outputs": [],
   "source": "start_date = '2024-10-01'\nend_date = '2025-01-31'\nmodel_version = 'V2'\n\nsimulate_model_performance(session, start_date, end_date, model_version, generate_data=False)"
  },
  {
   "cell_type": "markdown",
   "id": "55a76de0-74ac-4f25-84f3-4717b33c51fb",
   "metadata": {
    "name": "cell56",
    "collapsed": false
   },
   "source": "### Comparing the two Model Versions\nWe have already observed that the new model provides **significantly better predictions** for future customer revenue. However, we want to gain deeper insights into **why** this improvement occurred.  \n\nTo analyze this, I am plotting the **feature importance** for both models. This reveals that the new model recognizes a **much stronger influence** of past **ONLINE transactions** on future customer revenue.  \n\nAdditionally, we can leverage the model's **explainability features**, using **SHAP values**, to further visualize and understand these relationships."
  },
  {
   "cell_type": "code",
   "id": "694fbbff-0f53-4a6e-a83b-c2074f695ca9",
   "metadata": {
    "language": "python",
    "name": "cell57",
    "collapsed": false
   },
   "outputs": [],
   "source": "compare_two_models(session,'V1','V2')",
   "execution_count": null
  },
  {
   "cell_type": "code",
   "id": "02310bfb-5eb4-4d2b-ae60-8492e6c8625b",
   "metadata": {
    "language": "python",
    "name": "cell59"
   },
   "outputs": [],
   "source": "explanations = registered_model.run(test_df, function_name=\"explain\")\nexplanations = explanations.rename({col:col.replace('\"\"\"', '').upper() for col in explanations.columns})\n\nshap_columns = [col for col in explanations.columns if '_EXPLANATION' in col]\n\nexplanations = explanations.select('CUSTOMER_ID', *shap_columns)\nexplanations = explanations.to_pandas()\n\nimport shap\ncol1, col2 = st.columns(2)\nwith col1:\n    st.markdown(f'### Global Feature Importance')\n    shap_exp = shap._explanation.Explanation(explanations[shap_columns].values, feature_names = [col.replace('_EXPLANATION','') for col in shap_columns]) # wrapping them into a SHAP recognized object\n    shap.plots.bar(shap_exp)\nwith col2:\n    st.markdown(f'### Local Feature Importance for CUSTOMER_ID {int(explanations.iloc[0][\"CUSTOMER_ID\"])}:')\n    shap.plots.bar(shap_exp[0])",
   "execution_count": null
  },
  {
   "cell_type": "code",
   "id": "64eaba4b-dfed-4268-8c47-fb3a5a59414e",
   "metadata": {
    "language": "python",
    "name": "cell9",
    "collapsed": false
   },
   "outputs": [],
   "source": "import shap\ncol1, col2 = st.columns(2)\n\nwith col1:\n    st.markdown('### Global Feature Importance: Model V1')\n    explaination_df = session.table('SIMPLE_MLOPS_DEMO.MODEL_REGISTRY.MM_TRANS_SOURCE_V2').filter(col('FEATURE_CUTOFF_DATE') == '2025-01-31')\n    mv = reg.get_model('CUSTOMER_REVENUE_MODEL').version('V1')\n    explanations = mv.run(explaination_df, function_name=\"explain\")\n    explanations = explanations.rename({col:col.replace('\"\"\"', '').upper() for col in explanations.columns})\n    shap_columns = [col for col in explanations.columns if '_EXPLANATION' in col]\n    explanations = explanations.select('CUSTOMER_ID', *shap_columns)\n    explanations = explanations.to_pandas()\n    \n    shap_exp = shap._explanation.Explanation(explanations[shap_columns].values, feature_names = [col.replace('_EXPLANATION','') for col in shap_columns]) \n    shap.plots.bar(shap_exp)\nwith col2:\n    st.markdown('### Global Feature Importance: Model V2')\n    explaination_df = session.table('SIMPLE_MLOPS_DEMO.MODEL_REGISTRY.MM_TRANS_SOURCE_V2').filter(col('FEATURE_CUTOFF_DATE') == '2025-01-31')\n    mv = reg.get_model('CUSTOMER_REVENUE_MODEL').version('V2')\n    explanations = mv.run(explaination_df, function_name=\"explain\")\n    explanations = explanations.rename({col:col.replace('\"\"\"', '').upper() for col in explanations.columns})\n    shap_columns = [col for col in explanations.columns if '_EXPLANATION' in col]\n    explanations = explanations.select('CUSTOMER_ID', *shap_columns)\n    explanations = explanations.to_pandas()\n    \n    shap_exp = shap._explanation.Explanation(explanations[shap_columns].values, feature_names = [col.replace('_EXPLANATION','') for col in shap_columns]) \n    shap.plots.bar(shap_exp)",
   "execution_count": null
  },
  {
   "cell_type": "markdown",
   "id": "6177a3c1-8d98-4900-83ea-f0ec4a910b20",
   "metadata": {
    "name": "cell25",
    "collapsed": false
   },
   "source": "## ML Lineage\nEven though you may not have noticed, you’ve been capturing **lineage information** throughout the development of your machine learning pipeline.  \n\nYou can retrieve this information using the built-in function `lineage.trace()` for further analysis.  \nFor example, you can use this data to **visualize the lineage directly in the notebook**.  \n\nAdditionally, Snowflake provides a **more user-friendly and interactive UI** that allows you to explore and monitor your machine learning pipeline:  \n![text](https://github.com/michaelgorkow/snowflake_simple_mlops/blob/main/resources/ml_lineage3.png?raw=true)\n\nAs shown, the lineage captures a **comprehensive view** of your pipeline, tracking data transformations and dependencies from the **source tables**, through the **feature view**, the **training dataset**, and ultimately the **registered model** in the Model Registry."
  },
  {
   "cell_type": "code",
   "id": "eabf3d6b-2133-4328-ab35-1e15dfacc886",
   "metadata": {
    "language": "python",
    "name": "cell60"
   },
   "outputs": [],
   "source": "st.markdown('https://app.snowflake.com/tuoxlbu/etb67195/#/data/databases')",
   "execution_count": null
  },
  {
   "cell_type": "code",
   "id": "5335afd3-fca6-40f6-881a-0efdb7ac48e1",
   "metadata": {
    "language": "python",
    "name": "cell43"
   },
   "outputs": [],
   "source": "session.sql(\"SELECT CURRENT_ACCOUNT_NAME()\").show()",
   "execution_count": null
  },
  {
   "cell_type": "code",
   "id": "84fab3ee-19e7-4a34-a86a-cd09efec9065",
   "metadata": {
    "language": "python",
    "name": "cell45",
    "collapsed": false
   },
   "outputs": [],
   "source": "trace = session.lineage.trace(\n    object_name='SIMPLE_MLOPS_DEMO.MODEL_REGISTRY.CUSTOMER_REVENUE_MODEL',\n    object_version='V1',\n    object_domain='model',\n    direction='both',\n    distance=2\n)\ntrace.show()",
   "execution_count": null
  },
  {
   "cell_type": "code",
   "id": "3924a8b0-75ca-46b3-bd57-c3edd59a16a4",
   "metadata": {
    "language": "python",
    "name": "cell11",
    "collapsed": false
   },
   "outputs": [],
   "source": "visualize_lineage(trace.to_pandas(), short_names=True)",
   "execution_count": null
  }
 ]
}